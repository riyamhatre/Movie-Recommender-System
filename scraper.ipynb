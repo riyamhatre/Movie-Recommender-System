{
 "cells": [
  {
   "cell_type": "code",
   "execution_count": 1,
   "id": "434c721b",
   "metadata": {},
   "outputs": [],
   "source": [
    "import numpy as np\n",
    "import matplotlib as mpl\n",
    "import matplotlib.pyplot as plt\n",
    "import matplotlib.gridspec as gridspec # Alignments \n",
    "\n",
    "import seaborn as sns \n",
    "import pandas as pd\n",
    "import requests"
   ]
  },
  {
   "cell_type": "code",
   "execution_count": 2,
   "id": "a8d325be",
   "metadata": {},
   "outputs": [],
   "source": [
    "new_data = pd.read_csv('/Users/riyamhatre/Desktop/scraped_data.csv').drop(columns = {'Unnamed: 0'})"
   ]
  },
  {
   "cell_type": "code",
   "execution_count": 5,
   "id": "c0d0b02d",
   "metadata": {},
   "outputs": [],
   "source": [
    "df = new_data\n",
    "\n",
    "import requests\n",
    "\n",
    "def get_imdb_rating(movie_name, api_key):\n",
    "    url = f\"http://www.omdbapi.com/?t={movie_name}&apikey={api_key}\"\n",
    "    response = requests.get(url)\n",
    "    \n",
    "    data = response.json()\n",
    "\n",
    "    # Check if movie is found\n",
    "    if data.get(\"Response\") == \"True\":\n",
    "        return data.get(\"imdbRating\", \"Rating not available\")\n",
    "    else:\n",
    "        return \"\"\n",
    "\n",
    "def get_box_office(movie_name, api_key):\n",
    "    url = f\"http://www.omdbapi.com/?t={movie_name}&apikey={api_key}\"\n",
    "    response = requests.get(url)\n",
    "    data = response.json()\n",
    "\n",
    "    if data.get(\"Response\") == \"True\":\n",
    "        if 'BoxOffice' in data.keys():\n",
    "            return data['BoxOffice']\n",
    "        if 'Awards' in data.keys():\n",
    "            return data['Awards']\n",
    "    else:\n",
    "        return ''\n",
    "    \n",
    "\n",
    "def get_awards(movie_name, api_key):\n",
    "    url = f\"http://www.omdbapi.com/?t={movie_name}&apikey={api_key}\"\n",
    "    response = requests.get(url)\n",
    "    data = response.json()\n",
    "\n",
    "    if data.get(\"Response\") == \"True\":\n",
    "        if 'Awards' in data.keys():\n",
    "            return data['Awards']\n",
    "    else:\n",
    "        return ''\n",
    "    \n",
    "def get_others(movie_name, api_key):\n",
    "    url = f\"http://www.omdbapi.com/?t={movie_name}&apikey={api_key}\"\n",
    "    response = requests.get(url)\n",
    "    data = response.json()\n",
    "\n",
    "    if data.get(\"Response\") == \"True\":\n",
    "            return [data['Genre'], data['Language'], data['imdbVotes']]\n",
    "    else:\n",
    "        return f\"Movie '{movie_name}' not found.\"\n",
    "\n",
    "lst = df['title'].to_list()\n",
    "ratings = []\n",
    "box_office = []\n",
    "genre = []\n",
    "language = []\n",
    "imdbVotes = []\n",
    "awards = []\n",
    "for i in lst:\n",
    "    ratings.append(get_imdb_rating(i,'76a00330'))\n",
    "    box_office.append(get_box_office(i, '76a00330'))\n",
    "    awards.append(get_awards(i, '76a00330'))\n",
    "    genre.append(get_others(i, '76a00330')[0])\n",
    "    language.append(get_others(i, '76a00330')[1])\n",
    "    imdbVotes.append(get_others(i, '76a00330')[2])\n",
    "\n",
    "df['imdb_ratings'] = ratings\n",
    "df['genre'] = genre\n",
    "df['language'] = language\n",
    "df['imdb_votes'] = imdbVotes\n",
    "df['box_office'] = box_office\n",
    "df['awards'] = awards"
   ]
  },
  {
   "cell_type": "code",
   "execution_count": 52,
   "id": "c1110004",
   "metadata": {},
   "outputs": [],
   "source": [
    "new_data.set_index('show_id', inplace=True)\n",
    "df.set_index('show_id', inplace=True)\n",
    "new_data.update(df)\n",
    "new_data.reset_index(inplace=True)"
   ]
  },
  {
   "cell_type": "code",
   "execution_count": 53,
   "id": "2843d07a",
   "metadata": {},
   "outputs": [],
   "source": [
    "#Export Data\n",
    "from pathlib import Path\n",
    "filepath = Path('/Users/riyamhatre/Desktop/scraped_data.csv')\n",
    "filepath.parent.mkdir(parents=True, exist_ok = True)\n",
    "new_data.to_csv(filepath)"
   ]
  }
 ],
 "metadata": {
  "kernelspec": {
   "display_name": "Python 3",
   "language": "python",
   "name": "python3"
  },
  "language_info": {
   "codemirror_mode": {
    "name": "ipython",
    "version": 3
   },
   "file_extension": ".py",
   "mimetype": "text/x-python",
   "name": "python",
   "nbconvert_exporter": "python",
   "pygments_lexer": "ipython3",
   "version": "3.8.5"
  }
 },
 "nbformat": 4,
 "nbformat_minor": 5
}
